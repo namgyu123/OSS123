{
  "nbformat": 4,
  "nbformat_minor": 0,
  "metadata": {
    "colab": {
      "provenance": [],
      "authorship_tag": "ABX9TyOOKrMmjnGshvyLlsMjyNm1",
      "include_colab_link": true
    },
    "kernelspec": {
      "name": "python3",
      "display_name": "Python 3"
    },
    "language_info": {
      "name": "python"
    }
  },
  "cells": [
    {
      "cell_type": "markdown",
      "metadata": {
        "id": "view-in-github",
        "colab_type": "text"
      },
      "source": [
        "<a href=\"https://colab.research.google.com/github/namgyu123/OSS123/blob/main/%EC%84%9C%EC%9A%B8%EC%8B%9C_%EC%A7%80%ED%95%98%EC%B2%A0%ED%98%B8%EC%84%A0%EB%B3%84_%EC%97%AD%EB%B3%84_%EC%8A%B9%ED%95%98%EC%B0%A8_%EC%9D%B8%EC%9B%90_%EC%A0%95%EB%B3%B4.ipynb\" target=\"_parent\"><img src=\"https://colab.research.google.com/assets/colab-badge.svg\" alt=\"Open In Colab\"/></a>"
      ]
    },
    {
      "cell_type": "code",
      "execution_count": null,
      "metadata": {
        "id": "ZV0aCWrYNN_f"
      },
      "outputs": [],
      "source": [
        "# prompt: /content/CARD_SUBWAY_MONTH_202502.csv 를 분석해줘\n",
        "\n",
        "import pandas as pd\n",
        "\n",
        "# 파일 경로 설정\n",
        "file_path = \"/content/CARD_SUBWAY_MONTH_202502.csv\"\n",
        "\n",
        "try:\n",
        "    # CSV 파일 읽기\n",
        "    df = pd.read_csv(file_path, encoding='cp949')  # 한글 인코딩 문제 해결을 위해 cp949 사용\n",
        "\n",
        "    # 데이터 분석 (예시)\n",
        "    print(df.head())  # 처음 5행 출력\n",
        "    print(df.info())  # 데이터 정보 출력\n",
        "    print(df.describe())  # 기술 통계량 출력\n",
        "\n",
        "    # 사용량이 가장 많은 역 찾기\n",
        "    # 사용량 컬럼이 '승차총승객수' 또는 다른 이름인 경우 변경 필요\n",
        "    # 가장 많은 사용량을 가진 상위 10개 역\n",
        "    top_10_stations = df.groupby('역명')['승차총승객수'].sum().sort_values(ascending=False).head(10)\n",
        "    print(\"\\n사용량 상위 10개 역:\\n\", top_10_stations)\n",
        "\n",
        "except FileNotFoundError:\n",
        "    print(f\"파일 '{file_path}'를 찾을 수 없습니다.\")\n",
        "except pd.errors.ParserError:\n",
        "    print(f\"파일 '{file_path}'를 파싱하는 중 오류가 발생했습니다. 파일 형식을 확인해주세요.\")\n",
        "except Exception as e:\n",
        "    print(f\"오류 발생: {e}\")\n"
      ]
    }
  ]
}